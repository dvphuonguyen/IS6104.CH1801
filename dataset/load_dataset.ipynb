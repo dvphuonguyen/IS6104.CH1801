{
 "cells": [
  {
   "cell_type": "markdown",
   "metadata": {},
   "source": [
    "Link dataset: https://www.kaggle.com/datasets/hsankesara/flickr-image-dataset\n",
    "\n",
    "Sau khi download về thì giải nén"
   ]
  },
  {
   "cell_type": "markdown",
   "metadata": {},
   "source": [
    "# Đọc file dữ liệu flickr30K_images"
   ]
  },
  {
   "cell_type": "code",
   "execution_count": 181,
   "metadata": {},
   "outputs": [],
   "source": [
    "import numpy as numpy\n",
    "import pandas as pd\n",
    "from PIL import Image\n",
    "import os\n",
    "import shutil"
   ]
  },
  {
   "cell_type": "code",
   "execution_count": 150,
   "metadata": {},
   "outputs": [
    {
     "name": "stderr",
     "output_type": "stream",
     "text": [
      "C:\\Users\\phuon\\AppData\\Local\\Temp\\ipykernel_28360\\1774336321.py:1: DtypeWarning: Columns (7,8,9) have mixed types. Specify dtype option on import or set low_memory=False.\n",
      "  image_data_df = pd.read_csv('./results.csv').dropna(axis=1)\n",
      "C:\\Users\\phuon\\AppData\\Local\\Temp\\ipykernel_28360\\1774336321.py:2: FutureWarning: DataFrame.applymap has been deprecated. Use DataFrame.map instead.\n",
      "  image_data_df = image_data_df.applymap(lambda x: x.replace('\"', '') if isinstance(x, str) else x)\n"
     ]
    },
    {
     "name": "stdout",
     "output_type": "stream",
     "text": [
      "<class 'pandas.core.frame.DataFrame'>\n",
      "RangeIndex: 158915 entries, 0 to 158914\n",
      "Data columns (total 3 columns):\n",
      " #   Column          Non-Null Count   Dtype \n",
      "---  ------          --------------   ----- \n",
      " 0   image_name      158915 non-null  object\n",
      " 1   comment_number  158915 non-null  object\n",
      " 2   comment         158915 non-null  object\n",
      "dtypes: object(3)\n",
      "memory usage: 3.6+ MB\n"
     ]
    }
   ],
   "source": [
    "image_data_df = pd.read_csv('./results.csv').dropna(axis=1)\n",
    "image_data_df = image_data_df.applymap(lambda x: x.replace('\"', '') if isinstance(x, str) else x)\n",
    "image_data_df = image_data_df.iloc[:, 0].str.split('|', expand=True)\n",
    "image_data_df.columns = ['image_name', 'comment_number', 'comment']\n",
    "image_data_df ['comment'] = image_data_df ['comment'].apply(lambda x: '' if pd.isna(x) else x)\n",
    "image_data_df.info()"
   ]
  },
  {
   "cell_type": "code",
   "execution_count": 151,
   "metadata": {},
   "outputs": [
    {
     "data": {
      "text/html": [
       "<div>\n",
       "<style scoped>\n",
       "    .dataframe tbody tr th:only-of-type {\n",
       "        vertical-align: middle;\n",
       "    }\n",
       "\n",
       "    .dataframe tbody tr th {\n",
       "        vertical-align: top;\n",
       "    }\n",
       "\n",
       "    .dataframe thead th {\n",
       "        text-align: right;\n",
       "    }\n",
       "</style>\n",
       "<table border=\"1\" class=\"dataframe\">\n",
       "  <thead>\n",
       "    <tr style=\"text-align: right;\">\n",
       "      <th></th>\n",
       "      <th>image_name</th>\n",
       "      <th>comment_number</th>\n",
       "      <th>comment</th>\n",
       "    </tr>\n",
       "  </thead>\n",
       "  <tbody>\n",
       "    <tr>\n",
       "      <th>0</th>\n",
       "      <td>1000092795.jpg</td>\n",
       "      <td>0</td>\n",
       "      <td>Two young guys with shaggy hair look at their...</td>\n",
       "    </tr>\n",
       "    <tr>\n",
       "      <th>1</th>\n",
       "      <td>1000092795.jpg</td>\n",
       "      <td>1</td>\n",
       "      <td>Two young</td>\n",
       "    </tr>\n",
       "    <tr>\n",
       "      <th>2</th>\n",
       "      <td>1000092795.jpg</td>\n",
       "      <td>2</td>\n",
       "      <td>Two men in green shirts are standing in a yard .</td>\n",
       "    </tr>\n",
       "    <tr>\n",
       "      <th>3</th>\n",
       "      <td>1000092795.jpg</td>\n",
       "      <td>3</td>\n",
       "      <td>A man in a blue shirt standing in a garden .</td>\n",
       "    </tr>\n",
       "    <tr>\n",
       "      <th>4</th>\n",
       "      <td>1000092795.jpg</td>\n",
       "      <td>4</td>\n",
       "      <td>Two friends enjoy time spent together .</td>\n",
       "    </tr>\n",
       "  </tbody>\n",
       "</table>\n",
       "</div>"
      ],
      "text/plain": [
       "       image_name comment_number  \\\n",
       "0  1000092795.jpg              0   \n",
       "1  1000092795.jpg              1   \n",
       "2  1000092795.jpg              2   \n",
       "3  1000092795.jpg              3   \n",
       "4  1000092795.jpg              4   \n",
       "\n",
       "                                             comment  \n",
       "0   Two young guys with shaggy hair look at their...  \n",
       "1                                         Two young   \n",
       "2   Two men in green shirts are standing in a yard .  \n",
       "3       A man in a blue shirt standing in a garden .  \n",
       "4            Two friends enjoy time spent together .  "
      ]
     },
     "execution_count": 151,
     "metadata": {},
     "output_type": "execute_result"
    }
   ],
   "source": [
    "image_data_df.head(5)"
   ]
  },
  {
   "cell_type": "markdown",
   "metadata": {},
   "source": [
    "## Merge các câu comment trên cùng một ảnh lại với nhau"
   ]
  },
  {
   "cell_type": "code",
   "execution_count": 154,
   "metadata": {},
   "outputs": [
    {
     "name": "stdout",
     "output_type": "stream",
     "text": [
      "<class 'pandas.core.frame.DataFrame'>\n",
      "RangeIndex: 31783 entries, 0 to 31782\n",
      "Data columns (total 2 columns):\n",
      " #   Column        Non-Null Count  Dtype \n",
      "---  ------        --------------  ----- \n",
      " 0   image_name    31783 non-null  object\n",
      " 1   full_comment  31783 non-null  object\n",
      "dtypes: object(2)\n",
      "memory usage: 496.7+ KB\n"
     ]
    }
   ],
   "source": [
    "image_data_df['full_comment'] = image_data_df.groupby('image_name')['comment'].transform(lambda x: ' '.join(x))\n",
    "image_data_df = image_data_df.drop_duplicates(subset=['image_name'])\n",
    "image_data_df = image_data_df.drop(['comment_number', 'comment'], axis=1)\n",
    "image_data_df = image_data_df.reset_index(drop=True)\n",
    "image_data_df.info()"
   ]
  },
  {
   "cell_type": "code",
   "execution_count": 155,
   "metadata": {},
   "outputs": [
    {
     "data": {
      "text/html": [
       "<div>\n",
       "<style scoped>\n",
       "    .dataframe tbody tr th:only-of-type {\n",
       "        vertical-align: middle;\n",
       "    }\n",
       "\n",
       "    .dataframe tbody tr th {\n",
       "        vertical-align: top;\n",
       "    }\n",
       "\n",
       "    .dataframe thead th {\n",
       "        text-align: right;\n",
       "    }\n",
       "</style>\n",
       "<table border=\"1\" class=\"dataframe\">\n",
       "  <thead>\n",
       "    <tr style=\"text-align: right;\">\n",
       "      <th></th>\n",
       "      <th>image_name</th>\n",
       "      <th>full_comment</th>\n",
       "    </tr>\n",
       "  </thead>\n",
       "  <tbody>\n",
       "    <tr>\n",
       "      <th>0</th>\n",
       "      <td>1000092795.jpg</td>\n",
       "      <td>Two young guys with shaggy hair look at their...</td>\n",
       "    </tr>\n",
       "    <tr>\n",
       "      <th>1</th>\n",
       "      <td>10002456.jpg</td>\n",
       "      <td>Several men in hard hats are operating a gian...</td>\n",
       "    </tr>\n",
       "  </tbody>\n",
       "</table>\n",
       "</div>"
      ],
      "text/plain": [
       "       image_name                                       full_comment\n",
       "0  1000092795.jpg   Two young guys with shaggy hair look at their...\n",
       "1    10002456.jpg   Several men in hard hats are operating a gian..."
      ]
     },
     "execution_count": 155,
     "metadata": {},
     "output_type": "execute_result"
    }
   ],
   "source": [
    "image_data_df.head(2)"
   ]
  },
  {
   "cell_type": "markdown",
   "metadata": {},
   "source": [
    "## Sau đó, tiến hành check trong câu comment có đề cập con vật nào không? Nếu có thì note lại là có, còn không thì skip"
   ]
  },
  {
   "cell_type": "code",
   "execution_count": 157,
   "metadata": {},
   "outputs": [],
   "source": [
    "def filter_animal(sentence): # để dành cái này check animal sài\n",
    "    animal_dictionary_df = pd.read_csv(\"./animal_dictionary.csv\",header=None)\n",
    "    rows_list = animal_dictionary_df[0].values\n",
    "    list_has = []\n",
    "    \n",
    "    if isinstance(sentence, str):\n",
    "        # Chuyển câu về chữ thường để so sánh không phân biệt chữ hoa/chữ thường\n",
    "        sentence_lower = sentence.lower()\n",
    "\n",
    "        # Kiểm tra xem từng từ trong mảng có xuất hiện trong câu không\n",
    "        for word in rows_list:\n",
    "            sentence_word = sentence_lower.split(\" \")\n",
    "            if word.lower() in sentence_word:\n",
    "                list_has.append(word) # Lưu lại animal đó\n",
    "                # return True  # Nếu có ít nhất một từ xuất hiện, trả về True\n",
    "    # else:\n",
    "    #     print(\"🌷\")\n",
    "    #     print(type(sentence))\n",
    "    #     print(sentence)\n",
    "        \n",
    "    return list_has\n",
    "    # return False  # Nếu không có từ nào xuất hiện, trả về False"
   ]
  },
  {
   "cell_type": "code",
   "execution_count": 158,
   "metadata": {},
   "outputs": [
    {
     "name": "stdout",
     "output_type": "stream",
     "text": [
      "<class 'pandas.core.frame.DataFrame'>\n",
      "RangeIndex: 31783 entries, 0 to 31782\n",
      "Data columns (total 3 columns):\n",
      " #   Column        Non-Null Count  Dtype \n",
      "---  ------        --------------  ----- \n",
      " 0   image_name    31783 non-null  object\n",
      " 1   full_comment  31783 non-null  object\n",
      " 2   has_animal    31783 non-null  object\n",
      "dtypes: object(3)\n",
      "memory usage: 745.0+ KB\n"
     ]
    }
   ],
   "source": [
    "# Transform dataframe\n",
    "image_data_df[\"has_animal\"] = image_data_df[\"full_comment\"].apply(lambda x: filter_animal(str(x)))\n",
    "image_data_df.info()"
   ]
  },
  {
   "cell_type": "code",
   "execution_count": 159,
   "metadata": {},
   "outputs": [
    {
     "data": {
      "text/html": [
       "<div>\n",
       "<style scoped>\n",
       "    .dataframe tbody tr th:only-of-type {\n",
       "        vertical-align: middle;\n",
       "    }\n",
       "\n",
       "    .dataframe tbody tr th {\n",
       "        vertical-align: top;\n",
       "    }\n",
       "\n",
       "    .dataframe thead th {\n",
       "        text-align: right;\n",
       "    }\n",
       "</style>\n",
       "<table border=\"1\" class=\"dataframe\">\n",
       "  <thead>\n",
       "    <tr style=\"text-align: right;\">\n",
       "      <th></th>\n",
       "      <th>image_name</th>\n",
       "      <th>full_comment</th>\n",
       "      <th>has_animal</th>\n",
       "    </tr>\n",
       "  </thead>\n",
       "  <tbody>\n",
       "    <tr>\n",
       "      <th>0</th>\n",
       "      <td>1000092795.jpg</td>\n",
       "      <td>Two young guys with shaggy hair look at their...</td>\n",
       "      <td>[]</td>\n",
       "    </tr>\n",
       "  </tbody>\n",
       "</table>\n",
       "</div>"
      ],
      "text/plain": [
       "       image_name                                       full_comment  \\\n",
       "0  1000092795.jpg   Two young guys with shaggy hair look at their...   \n",
       "\n",
       "  has_animal  \n",
       "0         []  "
      ]
     },
     "execution_count": 159,
     "metadata": {},
     "output_type": "execute_result"
    }
   ],
   "source": [
    "image_data_df.head(1)"
   ]
  },
  {
   "cell_type": "markdown",
   "metadata": {},
   "source": [
    "## Lọc các ảnh có chứa từ khóa"
   ]
  },
  {
   "cell_type": "code",
   "execution_count": 163,
   "metadata": {},
   "outputs": [
    {
     "data": {
      "text/html": [
       "<div>\n",
       "<style scoped>\n",
       "    .dataframe tbody tr th:only-of-type {\n",
       "        vertical-align: middle;\n",
       "    }\n",
       "\n",
       "    .dataframe tbody tr th {\n",
       "        vertical-align: top;\n",
       "    }\n",
       "\n",
       "    .dataframe thead th {\n",
       "        text-align: right;\n",
       "    }\n",
       "</style>\n",
       "<table border=\"1\" class=\"dataframe\">\n",
       "  <thead>\n",
       "    <tr style=\"text-align: right;\">\n",
       "      <th></th>\n",
       "      <th>image_name</th>\n",
       "      <th>full_comment</th>\n",
       "      <th>has_animal</th>\n",
       "    </tr>\n",
       "  </thead>\n",
       "  <tbody>\n",
       "    <tr>\n",
       "      <th>6</th>\n",
       "      <td>1000919630.jpg</td>\n",
       "      <td>A man sits in a chair while holding a large s...</td>\n",
       "      <td>[Animal, Lion]</td>\n",
       "    </tr>\n",
       "    <tr>\n",
       "      <th>12</th>\n",
       "      <td>1001773457.jpg</td>\n",
       "      <td>A black dog and a white dog with brown spots ...</td>\n",
       "      <td>[Dog]</td>\n",
       "    </tr>\n",
       "    <tr>\n",
       "      <th>17</th>\n",
       "      <td>1003163366.jpg</td>\n",
       "      <td>a man sleeping on a bench outside with a whit...</td>\n",
       "      <td>[Dog]</td>\n",
       "    </tr>\n",
       "    <tr>\n",
       "      <th>29</th>\n",
       "      <td>100759042.jpg</td>\n",
       "      <td>Young man in jacket holding a toothpick with ...</td>\n",
       "      <td>[Crane]</td>\n",
       "    </tr>\n",
       "    <tr>\n",
       "      <th>34</th>\n",
       "      <td>1009434119.jpg</td>\n",
       "      <td>A black and white dog is running in a grassy ...</td>\n",
       "      <td>[Dog]</td>\n",
       "    </tr>\n",
       "  </tbody>\n",
       "</table>\n",
       "</div>"
      ],
      "text/plain": [
       "        image_name                                       full_comment  \\\n",
       "6   1000919630.jpg   A man sits in a chair while holding a large s...   \n",
       "12  1001773457.jpg   A black dog and a white dog with brown spots ...   \n",
       "17  1003163366.jpg   a man sleeping on a bench outside with a whit...   \n",
       "29   100759042.jpg   Young man in jacket holding a toothpick with ...   \n",
       "34  1009434119.jpg   A black and white dog is running in a grassy ...   \n",
       "\n",
       "        has_animal  \n",
       "6   [Animal, Lion]  \n",
       "12           [Dog]  \n",
       "17           [Dog]  \n",
       "29         [Crane]  \n",
       "34           [Dog]  "
      ]
     },
     "execution_count": 163,
     "metadata": {},
     "output_type": "execute_result"
    }
   ],
   "source": [
    "animal_data_df = image_data_df[image_data_df['has_animal'].apply(len) > 0]\n",
    "animal_data_df.head(5)"
   ]
  },
  {
   "cell_type": "markdown",
   "metadata": {},
   "source": [
    "## Tạo folder các con vật"
   ]
  },
  {
   "cell_type": "code",
   "execution_count": 172,
   "metadata": {},
   "outputs": [
    {
     "data": {
      "text/html": [
       "<div>\n",
       "<style scoped>\n",
       "    .dataframe tbody tr th:only-of-type {\n",
       "        vertical-align: middle;\n",
       "    }\n",
       "\n",
       "    .dataframe tbody tr th {\n",
       "        vertical-align: top;\n",
       "    }\n",
       "\n",
       "    .dataframe thead th {\n",
       "        text-align: right;\n",
       "    }\n",
       "</style>\n",
       "<table border=\"1\" class=\"dataframe\">\n",
       "  <thead>\n",
       "    <tr style=\"text-align: right;\">\n",
       "      <th></th>\n",
       "      <th>0</th>\n",
       "    </tr>\n",
       "  </thead>\n",
       "  <tbody>\n",
       "    <tr>\n",
       "      <th>0</th>\n",
       "      <td>Aardvark</td>\n",
       "    </tr>\n",
       "  </tbody>\n",
       "</table>\n",
       "</div>"
      ],
      "text/plain": [
       "          0\n",
       "0  Aardvark"
      ]
     },
     "execution_count": 172,
     "metadata": {},
     "output_type": "execute_result"
    }
   ],
   "source": [
    "file_df = pd.read_csv(\"./animal_dictionary.csv\", header=None)\n",
    "file_df.head(1)"
   ]
  },
  {
   "cell_type": "code",
   "execution_count": 180,
   "metadata": {},
   "outputs": [
    {
     "name": "stdout",
     "output_type": "stream",
     "text": [
      "Các thư mục đã được tạo thành công!\n"
     ]
    }
   ],
   "source": [
    "for index, row in file_df.iterrows():\n",
    "    folder_name = row.values[0]\n",
    "    os.makedirs(\"./animals/\" + folder_name, exist_ok=True)\n",
    "print(\"Các thư mục đã được tạo thành công!\")"
   ]
  },
  {
   "cell_type": "markdown",
   "metadata": {},
   "source": [
    "## Lưu các con vật đã được gán nhãn vào folder tương ứng"
   ]
  },
  {
   "cell_type": "code",
   "execution_count": 189,
   "metadata": {},
   "outputs": [],
   "source": [
    "for index, row in animal_data_df.iterrows():\n",
    "    # Lấy giá trị từ cột 'has_animal'\n",
    "    animals = row['has_animal']\n",
    "    # Lặp qua từng giá trị trong danh sách\n",
    "    for animal in animals:\n",
    "        image_path = os.path.join(\"./flickr30K_images\", row['image_name'])\n",
    "        if os.path.exists(image_path):\n",
    "            shutil.copy(image_path, f\"./animals/{animal}\") "
   ]
  },
  {
   "cell_type": "code",
   "execution_count": 194,
   "metadata": {},
   "outputs": [],
   "source": [
    "parent_folder = \"./animals\"\n",
    "\n",
    "for folder_name in os.listdir(parent_folder):\n",
    "    folder_path = os.path.join(parent_folder, folder_name)\n",
    "    if os.path.isdir(folder_path) and not os.listdir(folder_path):\n",
    "        os.rmdir(folder_path)\n"
   ]
  },
  {
   "cell_type": "code",
   "execution_count": null,
   "metadata": {},
   "outputs": [],
   "source": []
  }
 ],
 "metadata": {
  "kernelspec": {
   "display_name": "django_env",
   "language": "python",
   "name": "python3"
  },
  "language_info": {
   "codemirror_mode": {
    "name": "ipython",
    "version": 3
   },
   "file_extension": ".py",
   "mimetype": "text/x-python",
   "name": "python",
   "nbconvert_exporter": "python",
   "pygments_lexer": "ipython3",
   "version": "3.9.18"
  }
 },
 "nbformat": 4,
 "nbformat_minor": 2
}
